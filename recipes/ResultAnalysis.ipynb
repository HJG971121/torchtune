{
 "cells": [
  {
   "cell_type": "code",
   "execution_count": 2,
   "metadata": {},
   "outputs": [],
   "source": [
    "import os\n",
    "import numpy as np"
   ]
  },
  {
   "cell_type": "code",
   "execution_count": 11,
   "metadata": {},
   "outputs": [],
   "source": [
    "bs = 4\n",
    "seqlen = 2048\n",
    "node = 4\n",
    "warmup = 10\n",
    "iter = 10\n",
    "recipes = ['single_device_full', 'single_device_lora', 'distributed_full', 'distributed_lora']"
   ]
  },
  {
   "cell_type": "code",
   "execution_count": 13,
   "metadata": {},
   "outputs": [
    {
     "name": "stdout",
     "output_type": "stream",
     "text": [
      "alpaca-llama3-finetune/llama3-8b_distributed_lora_bs_4_seqlen_2048_node_4.log\n",
      "tokens_per_second_per_gpu: 2000\n",
      "peak_memory_active: 21.0962\n",
      "peak_memory_alloc: 21.0962\n",
      "peak_memory_reserved: 25.4825\n"
     ]
    }
   ],
   "source": [
    "idx = 3\n",
    "model = 'llama3-8b'\n",
    "model_dir = '-'.join(['alpaca', model.split('-')[0], 'finetune'])\n",
    "recipe_log_path = os.path.join(model_dir, \n",
    "                               '_'.join([model, recipes[idx], f'bs_{bs}', f'seqlen_{seqlen}', f'node_{node}' if idx>1 else '']).strip('_')+'.log')\n",
    "\n",
    "f = open(recipe_log_path, 'r')\n",
    "for line in f.readlines():\n",
    "    if 'Writing logs' in line:\n",
    "        log_path = line.split(' ')[-1].strip()\n",
    "        break\n",
    "\n",
    "infos = {\n",
    "    'tokens_per_second_per_gpu': [],\n",
    "    'peak_memory_active': [],\n",
    "    'peak_memory_alloc': [],\n",
    "    'peak_memory_reserved': [],\n",
    "}\n",
    "\n",
    "f = open(log_path, 'r')\n",
    "for idx, line in enumerate(f.readlines()):\n",
    "    if idx<warmup:\n",
    "        continue\n",
    "    if idx>warmup+iter:\n",
    "        break\n",
    "    info = line.strip().split(' ')[-4:]\n",
    "    for data in info:\n",
    "        infos[data.split(':')[0]].append(float(data.split(':')[1]))\n",
    "\n",
    "print(recipe_log_path)\n",
    "for k, v in infos.items():\n",
    "    if 'token' in k:\n",
    "        print(f'{k}: {np.mean(v):.0f}')\n",
    "    else:\n",
    "        print(f'{k}: {np.max(v):.4f}')\n"
   ]
  },
  {
   "cell_type": "code",
   "execution_count": null,
   "metadata": {},
   "outputs": [],
   "source": []
  }
 ],
 "metadata": {
  "kernelspec": {
   "display_name": "sy_ww25",
   "language": "python",
   "name": "python3"
  },
  "language_info": {
   "codemirror_mode": {
    "name": "ipython",
    "version": 3
   },
   "file_extension": ".py",
   "mimetype": "text/x-python",
   "name": "python",
   "nbconvert_exporter": "python",
   "pygments_lexer": "ipython3",
   "version": "3.10.14"
  }
 },
 "nbformat": 4,
 "nbformat_minor": 2
}
